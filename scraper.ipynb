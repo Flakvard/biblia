{
 "cells": [
  {
   "cell_type": "code",
   "execution_count": 251,
   "id": "46684f30-2667-4f4d-aa2f-ec64d3db1e9f",
   "metadata": {
    "tags": []
   },
   "outputs": [],
   "source": [
    "import requests\n",
    "import re\n",
    "from bs4 import BeautifulSoup\n",
    "  \n",
    "URL = \"https://www.biblia.fo/bible.php?l=fo&b=19&c=149\"\n",
    "r = requests.get(URL)\n",
    "  \n",
    "soup = BeautifulSoup(r.content, 'html5lib') # If this line causes an error, run 'pip install html5lib' or install html5lib\n",
    "\n",
    "# Function to add a tab delimiter between 'v?' and the text using regular expressions\n",
    "def add_delimiter_with_regex(sentence):\n",
    "    return re.sub(r'(v[0-9]+)', r'\\1\\t', sentence, 1)\n",
    "\n",
    "def extract_numbers_from_url(url):\n",
    "    pattern = r\"b=(\\d{1,2})&c=(\\d{1,3})\"\n",
    "    match = re.search(pattern, url)\n",
    "    if match:\n",
    "        book_number = int(match.group(1))\n",
    "        chapter_number = int(match.group(2))\n",
    "        return book_number, chapter_number\n",
    "    else:\n",
    "        return None\n"
   ]
  },
  {
   "cell_type": "code",
   "execution_count": 252,
   "id": "0a4f8daf-9559-40d6-98d7-27913b5c3027",
   "metadata": {
    "tags": []
   },
   "outputs": [],
   "source": [
    "text = soup.find_all('span', class_=\"verse\")"
   ]
  },
  {
   "cell_type": "code",
   "execution_count": 253,
   "id": "1bac119b-92a8-4a7d-abdb-2521398eba61",
   "metadata": {
    "tags": []
   },
   "outputs": [],
   "source": [
    "versNumber = soup.find_all('a', class_=\"verse_number\")"
   ]
  },
  {
   "cell_type": "code",
   "execution_count": 254,
   "id": "801734f5-7337-49d1-9e64-ded9534f4db4",
   "metadata": {
    "tags": []
   },
   "outputs": [],
   "source": [
    "bookNames = soup.find_all('a', class_=\"button_bible_book\")"
   ]
  },
  {
   "cell_type": "code",
   "execution_count": 255,
   "id": "9bb622fa-a634-468c-897f-d7e18c03a222",
   "metadata": {
    "tags": []
   },
   "outputs": [],
   "source": [
    "booksSorted = [\n",
    "'Fyrsta Mósebók',\n",
    "'Onnur Mósebók',\n",
    "'Triðja Mósebók',\n",
    "'Fjórða Mósebók',\n",
    "'Fimta Mósebók',\n",
    "'Jósvabók',\n",
    "'Dómarabókin',\n",
    "'Rutarbók',\n",
    "'Fyrra Sámuelsbók',\n",
    "'Seinna Sámuelsbók',\n",
    "'Fyrra Kongabók',\n",
    "'Seinna Kongabók',\n",
    "'Fyrra Krýnikubók',\n",
    "'Seinna Krýnikubók',\n",
    "'Ezra',\n",
    "'Nehemia',\n",
    "'Esterarbók',\n",
    "'Jobsbók',\n",
    "'Sálmarnir',\n",
    "'Orðtøk Sálomons',\n",
    "'Prædikarin',\n",
    "'Hásongurin',\n",
    "'Jesaja',\n",
    "'Jeremia',\n",
    "'Harmljóðini',\n",
    "'Ezekiel',\n",
    "'Dánjal',\n",
    "'Hósea',\n",
    "'Jóel',\n",
    "'Ámos',\n",
    "'Óbadia',\n",
    "'Jónas',\n",
    "'Mika',\n",
    "'Náhum',\n",
    "'Hábakkuk',\n",
    "'Sefanja',\n",
    "'Haggai',\n",
    "'Zakarja',\n",
    "'Málaki',\n",
    "'Evangeliið eftir Matteus',\n",
    "'Evangeliið eftir Markus',\n",
    "'Evangeliið eftir Lukas',\n",
    "'Evangeliið eftir Jóhannes',\n",
    "'Ápostlasøgan',\n",
    "'Bræv Paulusar ápostuls til Rómverja',\n",
    "'Fyrra bræv Paulusar ápostuls til Korintmanna',\n",
    "'Seinna bræv Paulusar ápostuls til Korintmanna',\n",
    "'Bræv Paulusar ápostuls til Galatamanna',\n",
    "'Bræv Paulusar ápostuls til Efesusmanna',\n",
    "'Bræv Paulusar ápostuls til Filippimanna',\n",
    "'Bræv Paulusar ápostuls til Kolossumanna',\n",
    "'Fyrra bræv Paulusar ápostuls til Tessalónikumanna',\n",
    "'Seinna bræv Paulusar ápostuls til Tessalónikumanna',\n",
    "'Fyrra bræv Paulusar ápostuls til Timoteusar',\n",
    "'Seinna bræv Paulusar ápostuls til Timoteusar',\n",
    "'Bræv Paulusar ápostuls til Titusar',\n",
    "'Bræv Paulusar ápostuls til Filemons',\n",
    "'Brævið til Hebreara',\n",
    "'Hitt almenna bræv Jákups',\n",
    "'Hitt fyrra almenna bræv Pæturs',\n",
    "'Hitt seinna almenna bræv Pæturs',\n",
    "'Hitt fyrsta almenna bræv Jóhannesar',\n",
    "'Annað bræv Jóhannesar',\n",
    "'Triðja bræv Jóhannesar',\n",
    "'Hitt almenna bræv Judasar',\n",
    "'Jóhannesar opinbering',\n",
    "]\n"
   ]
  },
  {
   "cell_type": "code",
   "execution_count": 257,
   "id": "88c6e36b-ce5e-4ef8-81b6-8ef6afd7dd65",
   "metadata": {
    "tags": []
   },
   "outputs": [
    {
     "name": "stdout",
     "output_type": "stream",
     "text": [
      "Sálmarnir\t149\tv1\tHalleluja! Syngið Harranum nýggjan song, lov hans í samkomu dýrkara hans!\n",
      "Sálmarnir\t149\tv2\tÍsrael gleðist yvir skapara sínum, synir Zions fegnist yvir kongi sínum!\n",
      "Sálmarnir\t149\tv3\tTeir skulu navni hans lova við gleðidansi, leika fyri honum á bumbu og hørpu!\n",
      "Sálmarnir\t149\tv4\tTí at Harrin hevur tokka á fólki sínum, hann teir kúgaðu prýðir við sigri.\n",
      "Sálmarnir\t149\tv5\tGuðs dýrkararnir fegnist við æru, rópi fagnaðarróp á legum sínum!\n",
      "Sálmarnir\t149\tv6\tTeir havi lovsong til Guð á munni, og tvíeggjað svørð í hondum!\n",
      "Sálmarnir\t149\tv7\tTil tess at gera á heidningunum hevnd og revsing fólkanna millum,\n",
      "Sálmarnir\t149\tv8\ttil tess at binda kongar teirra við fjøtrum, edilingar teirra við jarnbondum,\n",
      "Sálmarnir\t149\tv9\tog útinna yvir teir skrivaðan dóm; ein sómi er hetta øllum dýrkarum hans! Halleluja!\n"
     ]
    }
   ],
   "source": [
    "numbers = extract_numbers_from_url(URL)\n",
    "NumberedBooksSorted = enumerate(booksSorted, start=1)\n",
    "\n",
    "if numbers is not None:\n",
    "    book_number, chapter_number = numbers\n",
    "else:\n",
    "    print(\"URL format does not match.\")\n",
    "\n",
    "for bookNum, bookName in NumberedBooksSorted:\n",
    "    if (bookNum == book_number):\n",
    "        selectedBook = bookName\n",
    "\n",
    "for verse in text:\n",
    "    strVerse = verse.text\n",
    "    cleanVerse = strVerse.replace('\\t','')\n",
    "    cleanVerse = cleanVerse.replace('\\n','')\n",
    "    cleanedup = add_delimiter_with_regex(cleanVerse)\n",
    "    formatted_output = f\"{selectedBook}\\t{chapter_number}\\t{cleanedup}\"\n",
    "    print(formatted_output)"
   ]
  },
  {
   "cell_type": "code",
   "execution_count": null,
   "id": "6f5050f3-df91-44c6-ae23-f601d9778747",
   "metadata": {},
   "outputs": [],
   "source": []
  }
 ],
 "metadata": {
  "kernelspec": {
   "display_name": "Python 3 (ipykernel)",
   "language": "python",
   "name": "python3"
  },
  "language_info": {
   "codemirror_mode": {
    "name": "ipython",
    "version": 3
   },
   "file_extension": ".py",
   "mimetype": "text/x-python",
   "name": "python",
   "nbconvert_exporter": "python",
   "pygments_lexer": "ipython3",
   "version": "3.10.11"
  }
 },
 "nbformat": 4,
 "nbformat_minor": 5
}

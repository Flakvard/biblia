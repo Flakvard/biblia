{
 "cells": [
  {
   "cell_type": "code",
   "execution_count": 153,
   "id": "46684f30-2667-4f4d-aa2f-ec64d3db1e9f",
   "metadata": {
    "tags": []
   },
   "outputs": [],
   "source": [
    "import requests\n",
    "import re\n",
    "from bs4 import BeautifulSoup\n",
    "  \n",
    "URL = \"https://www.biblia.fo/bible.php?l=fo&b=3&c=24\"\n",
    "r = requests.get(URL)\n",
    "  \n",
    "soup = BeautifulSoup(r.content, 'html5lib') # If this line causes an error, run 'pip install html5lib' or install html5lib\n"
   ]
  },
  {
   "cell_type": "code",
   "execution_count": 154,
   "id": "0a4f8daf-9559-40d6-98d7-27913b5c3027",
   "metadata": {
    "tags": []
   },
   "outputs": [],
   "source": [
    "text = soup.find_all('span', class_=\"verse\")"
   ]
  },
  {
   "cell_type": "code",
   "execution_count": 155,
   "id": "1bac119b-92a8-4a7d-abdb-2521398eba61",
   "metadata": {
    "tags": []
   },
   "outputs": [],
   "source": [
    "versNumber = soup.find_all('a', class_=\"verse_number\")"
   ]
  },
  {
   "cell_type": "code",
   "execution_count": 135,
   "id": "2ba2f962-bf6e-4b8d-b433-4ba0378086bd",
   "metadata": {
    "tags": []
   },
   "outputs": [],
   "source": [
    "# <td class=\"right_pane\">\n",
    "#       <div class=\"bible_content\" id=\"bible_content\">\n",
    "#        <div class=\"title\">"
   ]
  },
  {
   "cell_type": "code",
   "execution_count": 156,
   "id": "88c6e36b-ce5e-4ef8-81b6-8ef6afd7dd65",
   "metadata": {
    "tags": []
   },
   "outputs": [
    {
     "name": "stdout",
     "output_type": "stream",
     "text": [
      "v1\tÍ fyrstuni skapaði Guð himmalin og jørðina.\n",
      "v2\tOg jørðin var oyðin og ber, og myrkur var yvir frumhavinum, og Guðs andi lá á vøtnunum.\n",
      "v3\tOg Guð segði: «Verði ljós!» Og tað varð ljós.\n",
      "v4\tOg Guð sá, at ljósið var gott, og Guð skildi ljósið frá myrkrinum,\n",
      "v5\tog Guð kallaði ljósið dag, og myrkrið kallaði hann nátt. Og tað varð kvøld, og tað varð morgun – fyrsti dagur.\n",
      "v6\tOg Guð segði: «Verði hválv í miðjum vøtnunum, og tað skilji vøtn frá vøtnum!» Og tað varð so.\n",
      "v7\tGuð gjørdi hválvið og skildi vatnið niðri undir hválvinum frá vatninum uppi yvir hválvinum;\n",
      "v8\tog Guð kallaði hválvið himmal. Og tað varð kvøld, og tað varð morgun – annar dagur.\n",
      "v9\tOg Guð segði: «Savnist vøtnini undir himmalinum á ein stað, so at turrlendið kemur undan!» Og tað varð so.\n",
      "v10\tOg Guð kallaði turrlendið jørð, og savnið av vøtnunum kallaði hann hav. Og Guð sá, at tað var gott.\n",
      "v11\tOg Guð segði: «Jørðin lati spretta av sær grønt gras, urtir við fræi í, og aldintrø, sum hvørt ber ávøkst, eftir sínum kyni við fræi í, á jørðini!» Og tað varð so.\n",
      "v12\tJørðin læt spretta fram grønt gras, urtir við fræi í, hvørja eftir sínum kyni, og aldintrø, sum bóru ávøkst við fræi í, hvørt eftir sínum kyni. Og Guð sá, at tað var gott.\n",
      "v13\tOg tað varð kvøld, og tað varð morgun – triði dagur.\n",
      "v14\tOg Guð segði: «Verði ljós á himmalhválvinum til at skilja dag frá nátt, og tey skulu vera til merkis og til at avmarka hátíðir, dagar og ár,\n",
      "v15\tog tey skulu vera ljós á himmalhválvinum til at lýsa á jørðina!» Og tað varð so.\n",
      "v16\tGuð gjørdi tey tvey stóru ljósini, hitt størra ljósið til at ráða um dagin og hitt minna ljósið til at ráða um náttina, og stjørnurnar.\n",
      "v17\tOg Guð setti tey á himmalhválvið at lýsa á jørðina,\n",
      "v18\tog at ráða degi og nátt og at skilja ljósið frá myrkrinum. Og Guð sá, at tað var gott.\n",
      "v19\tOg tað varð kvøld, og tað varð morgun – fjórði dagur.\n",
      "v20\tOg Guð segði: «Vøtnini yði í livandi skepnum, og fuglar fljúgvi yvir jørðina undir himmalhválvinum!» Og tað varð so.\n",
      "v21\tOg Guð skapaði hini stóru havdjórini og allar hinar yðjandi nøgdir av livandi skepnum, sum vøtnini yðja í, eftir teirra kyni og allar floygdar fuglar eftir teirra kyni. Og Guð sá, at tað var gott.\n",
      "v22\tOg Guð vælsignaði tey og segði: «Nørist og fjølgist og fyllið havsins vøtn, og fuglarnir fjølgist á jørðini!»\n",
      "v23\tOg tað varð kvøld, og tað varð morgun – fimti dagur.\n",
      "v24\tOg Guð segði: «Jørðin ali fram livandi skepnur, hvørja eftir sínum kyni, fenað, skriðkykt og villdjór, hvørt eftir sínum kyni!» Og tað varð so.\n",
      "v25\tOg Guð gjørdi villdjórini, hvørt eftir sínum kyni, og fenaðin eftir sínum kyni, alskyns skriðkykt á jørðini eftir sínum kyni. Og Guð sá, at tað var gott.\n",
      "v26\tOg Guð segði: «Vær viljum gera menniskjur eftir okkara mynd, okkum líkar, og tær skulu ráða yvir havsins fiskum og yvir himmalsins fuglum og yvir fenaðinum og yvir øllum villdjórunum á jørðini og yvir øllum skriðkyktunum, sum skríða á jørðini!»\n",
      "v27\tOg Guð skapaði mannin eftir síni mynd, í Guðs mynd skapaði hann hann, sum kall og konu skapaði hann tey,\n",
      "v28\tog Guð vælsignaði tey, og Guð segði við tey: «Verðið barnrík og fjølgist og uppfyllið jørðina og leggið hana undir tykkum, og ráðið yvir havsins fiskum og yvir himmalsins fuglum og yvir fenaðinum og yvir øllum villdjórunum, sum rørast á jørðini!»\n",
      "v29\tOg Guð segði framvegis: «Sí, eg gevi tykkum alskyns fræberandi urtir á allari jørðini og alskyns trø, sum bera ávøkst við fræi í; tey skulu tit hava til føði.\n",
      "v30\tOg øllum djórunum á jørðini og øllum himmalsins fuglum og øllum, sum skríður á jørðini, øllum tí, sum hevur lívsanda, gevi eg alt gras og grønar urtir til føði!» Og tað varð so.\n",
      "v31\tOg Guð leit at øllum, sum hann hevði gjørt, og sí, tað var sera gott. Og tað varð kvøld, og tað varð morgun – sætti dagur.\n"
     ]
    }
   ],
   "source": [
    "# Function to add a tab delimiter between 'v?' and the text using regular expressions\n",
    "def add_delimiter_with_regex(sentence):\n",
    "    return re.sub(r'(v[0-9]+)', r'\\1\\t', sentence, 1)\n",
    "\n",
    "\n",
    "# processed_sentences = add_delimiter(sentences)\n",
    "\n",
    "# for sentence in processed_sentences:\n",
    "#     print(sentence)\n",
    "\n",
    "for verse in text:\n",
    "    strVerse = verse.text\n",
    "    cleanVerse = strVerse.replace('\\t','')\n",
    "    cleanVerse = cleanVerse.replace('\\n','')\n",
    "    cleanedup = add_delimiter_with_regex(cleanVerse)\n",
    "    print(cleanedup)"
   ]
  },
  {
   "cell_type": "code",
   "execution_count": null,
   "id": "b33fd1b5-461f-46c6-b7ab-868425bd7250",
   "metadata": {},
   "outputs": [],
   "source": []
  }
 ],
 "metadata": {
  "kernelspec": {
   "display_name": "Python 3 (ipykernel)",
   "language": "python",
   "name": "python3"
  },
  "language_info": {
   "codemirror_mode": {
    "name": "ipython",
    "version": 3
   },
   "file_extension": ".py",
   "mimetype": "text/x-python",
   "name": "python",
   "nbconvert_exporter": "python",
   "pygments_lexer": "ipython3",
   "version": "3.10.11"
  }
 },
 "nbformat": 4,
 "nbformat_minor": 5
}

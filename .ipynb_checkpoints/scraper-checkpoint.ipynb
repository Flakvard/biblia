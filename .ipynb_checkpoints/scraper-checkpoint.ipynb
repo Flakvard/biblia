{
 "cells": [
  {
   "cell_type": "code",
   "execution_count": 163,
   "id": "46684f30-2667-4f4d-aa2f-ec64d3db1e9f",
   "metadata": {
    "tags": []
   },
   "outputs": [],
   "source": [
    "import requests\n",
    "import re\n",
    "from bs4 import BeautifulSoup\n",
    "  \n",
    "URL = \"https://www.biblia.fo/bible.php?l=fo&b=3&c=24\"\n",
    "r = requests.get(URL)\n",
    "  \n",
    "soup = BeautifulSoup(r.content, 'html5lib') # If this line causes an error, run 'pip install html5lib' or install html5lib\n",
    "\n",
    "# Function to add a tab delimiter between 'v?' and the text using regular expressions\n",
    "def add_delimiter_with_regex(sentence):\n",
    "    return re.sub(r'(v[0-9]+)', r'\\1\\t', sentence, 1)\n",
    "\n",
    "def extract_numbers_from_url(url):\n",
    "    pattern = r\"b=(\\d{1,2})&c=(\\d{1,3})\"\n",
    "    match = re.search(pattern, url)\n",
    "    if match:\n",
    "        book_number = int(match.group(1))\n",
    "        chapter_number = int(match.group(2))\n",
    "        return book_number, chapter_number\n",
    "    else:\n",
    "        return None\n"
   ]
  },
  {
   "cell_type": "code",
   "execution_count": 159,
   "id": "0a4f8daf-9559-40d6-98d7-27913b5c3027",
   "metadata": {
    "tags": []
   },
   "outputs": [],
   "source": [
    "text = soup.find_all('span', class_=\"verse\")"
   ]
  },
  {
   "cell_type": "code",
   "execution_count": 160,
   "id": "1bac119b-92a8-4a7d-abdb-2521398eba61",
   "metadata": {
    "tags": []
   },
   "outputs": [],
   "source": [
    "versNumber = soup.find_all('a', class_=\"verse_number\")"
   ]
  },
  {
   "cell_type": "code",
   "execution_count": 161,
   "id": "2ba2f962-bf6e-4b8d-b433-4ba0378086bd",
   "metadata": {
    "tags": []
   },
   "outputs": [],
   "source": [
    "# <td class=\"right_pane\">\n",
    "#       <div class=\"bible_content\" id=\"bible_content\">\n",
    "#        <div class=\"title\">"
   ]
  },
  {
   "cell_type": "code",
   "execution_count": 170,
   "id": "88c6e36b-ce5e-4ef8-81b6-8ef6afd7dd65",
   "metadata": {
    "tags": []
   },
   "outputs": [
    {
     "name": "stdout",
     "output_type": "stream",
     "text": [
      "3\t24\tv1\tOg Harrin talaði framvegis við Móses og segði:\n",
      "3\t24\tv2\t«Bjóða Ísraelsmonnum at taka tær reina olju úr stoyttum oljuberjum til ljósastakan, so at lampurnar altíð kunnu verða uppsettar.\n",
      "3\t24\tv3\tÍ samfundartjaldinum uttan fyri vitnisburðarfortjaldið skal Áron tilreiða tær, so at tær altíð mega brenna frammi fyri Harranum frá kvøldi til morguns. Hetta skal vera ævig skipan í øllum ættarliðum tykkara.\n",
      "3\t24\tv4\tHann skal gera lampurnar til á gullljósastakanum frammi fyri Harranum, so at tær altíð mega brenna.\n",
      "3\t24\tv5\tOg tú skalt taka fínt mjøl og baka úr tí tólv køkur; tveir tíggjundapartar úr efu skulu vera í hvørjari køku.\n",
      "3\t24\tv6\tTær skalt tú leggja í tvey røð, seks í hvørt raðið, á gullborðið frammi fyri Harranum.\n",
      "3\t24\tv7\tÁ hvørt raðið skalt tú leggja reint roykilsi; tað skal aftur við breyðinum vera áminningaroffur av eldofri fyri Harranum.\n",
      "3\t24\tv8\tHann skal støðugt hvønn hvíludag gera tey til frammi fyri Harranum. Hetta skal vera Ísraelsmonnum ævig sáttmálaskylda.\n",
      "3\t24\tv9\tTey skulu Áron og synir hansara njóta, og teir skulu eta tey á heilagum staði; tí at tey eru háheilag og skulu ognast honum sum ævig rættindi av eldofrum Harrans.\n",
      "3\t24\tv10\tMaður, hvørs móðir var ísraelitisk, men faðirin Egypti, fór á einum sinni út millum Ísraelsmenn; tá kom sonurin hjá teirri ísraelitisku konuni upp at klandrast við ísraelitiskan mann í herbúðunum.\n",
      "3\t24\tv11\tOg tá ið sonurin hjá teirri ísraelitisku konuni bølbað navnið og spottaði tað, leiddu teir hann fyri Móses. Móðir hans æt Sjelomit Dibrisdóttir av Dáns ætt.\n",
      "3\t24\tv12\tOg teir settu hann í varðhald, til teir fingu úrskurðin av munni Harrans.\n",
      "3\t24\tv13\tTá talaði Harrin til Móses og segði:\n",
      "3\t24\tv14\t«Leið bølbiðjaran út um herbúðirnar; og allir, ið hoyrt hann hava, skulu leggja hendur sínar á høvur hans; síðan skal allur savnaðurin grýta hann til bana.\n",
      "3\t24\tv15\tOg tú skalt tala til Ísraelsmenn og siga: Hvør, ið bølbiður Guð sín, skal bøta fyri synd sína;\n",
      "3\t24\tv16\tog tann, ið spottar navn Harrans, skal eirindaleyst láta lív; allur savnaðurin skal grýta hann til bana, hvørt tað er útlendskur ella innborin maður, skulu teir týna lívið, tá ið teir bølbiðja navnið.\n",
      "3\t24\tv17\tUm einhvør verður manni at bana, skal hann láta lív;\n",
      "3\t24\tv18\tog verður hann djóri at bana, skal hann endurgjalda tað – aftur fyri livandi djór livandi djór.\n",
      "3\t24\tv19\tTá ið maður verður tjóðfelaga sínum at meini, skal tað sama verða gjørt við hann, sum hann gjørdi við hin,\n",
      "3\t24\tv20\tbeinbrot fyri beinbrot, eyga fyri eyga, tonn fyri tonn; sama mein, ið hann hevur gjørt øðrum, skal verða gjørt móti honum.\n",
      "3\t24\tv21\tVerður maður djóri at bana, skal hann endurgjalda tað; og verður hann manni at bana, skal hann láta lív.\n",
      "3\t24\tv22\tTit skulu allir hava eina og somu lóg, bæði hin fremmandi og hin innborni; tí at eg eri Harrin, Guð tykkara!»\n",
      "3\t24\tv23\tMóses segði nú hetta fyri Ísraelsmonnum; og teir fluttu bølbiðjaran út um herbúðirnar og grýttu hann til bana. Ísraelsmenn gjørdu, eins og Harrin hevði boðið Mósesi.\n"
     ]
    }
   ],
   "source": [
    "numbers = extract_numbers_from_url(URL)\n",
    "\n",
    "if numbers is not None:\n",
    "    book_number, chapter_number = numbers\n",
    "else:\n",
    "    print(\"URL format does not match.\")\n",
    "    \n",
    "\n",
    "\n",
    "for verse in text:\n",
    "    strVerse = verse.text\n",
    "    cleanVerse = strVerse.replace('\\t','')\n",
    "    cleanVerse = cleanVerse.replace('\\n','')\n",
    "    cleanedup = add_delimiter_with_regex(cleanVerse)\n",
    "    formatted_output = f\"{book_number}\\t{chapter_number}\\t{cleanedup}\"\n",
    "    print(formatted_output)"
   ]
  },
  {
   "cell_type": "code",
   "execution_count": 157,
   "id": "b33fd1b5-461f-46c6-b7ab-868425bd7250",
   "metadata": {
    "tags": []
   },
   "outputs": [
    {
     "name": "stdout",
     "output_type": "stream",
     "text": [
      "Book Number: 24\n",
      "Chapter Number: 46\n"
     ]
    }
   ],
   "source": [
    "\n",
    "url = \"https://biblia.fo/bible.php?l=fo&b=24&c=46\"\n",
    "\n"
   ]
  },
  {
   "cell_type": "code",
   "execution_count": null,
   "id": "6f5050f3-df91-44c6-ae23-f601d9778747",
   "metadata": {},
   "outputs": [],
   "source": []
  }
 ],
 "metadata": {
  "kernelspec": {
   "display_name": "Python 3 (ipykernel)",
   "language": "python",
   "name": "python3"
  },
  "language_info": {
   "codemirror_mode": {
    "name": "ipython",
    "version": 3
   },
   "file_extension": ".py",
   "mimetype": "text/x-python",
   "name": "python",
   "nbconvert_exporter": "python",
   "pygments_lexer": "ipython3",
   "version": "3.10.11"
  }
 },
 "nbformat": 4,
 "nbformat_minor": 5
}

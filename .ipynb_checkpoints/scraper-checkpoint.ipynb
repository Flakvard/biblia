{
 "cells": [
  {
   "cell_type": "code",
   "execution_count": 5,
   "id": "46684f30-2667-4f4d-aa2f-ec64d3db1e9f",
   "metadata": {
    "tags": []
   },
   "outputs": [],
   "source": [
    "import requests\n",
    "from bs4 import BeautifulSoup\n",
    "  \n",
    "URL = \"https://www.biblia.fo/bible.php?l=fo&b=1&c=21\"\n",
    "r = requests.get(URL)\n",
    "  \n",
    "soup = BeautifulSoup(r.content, 'html5lib') # If this line causes an error, run 'pip install html5lib' or install html5lib\n"
   ]
  },
  {
   "cell_type": "code",
   "execution_count": 53,
   "id": "0a4f8daf-9559-40d6-98d7-27913b5c3027",
   "metadata": {
    "tags": []
   },
   "outputs": [],
   "source": [
    "text = soup.find_all('span', class_=\"verse\")"
   ]
  },
  {
   "cell_type": "code",
   "execution_count": null,
   "id": "2ba2f962-bf6e-4b8d-b433-4ba0378086bd",
   "metadata": {},
   "outputs": [],
   "source": [
    "# <td class=\"right_pane\">\n",
    "#       <div class=\"bible_content\" id=\"bible_content\">\n",
    "#        <div class=\"title\">"
   ]
  },
  {
   "cell_type": "code",
   "execution_count": 28,
   "id": "5d3627df-a1fc-4b77-98ff-04c126d24cc9",
   "metadata": {
    "tags": []
   },
   "outputs": [
    {
     "data": {
      "text/plain": [
       "bs4.BeautifulSoup"
      ]
     },
     "execution_count": 28,
     "metadata": {},
     "output_type": "execute_result"
    }
   ],
   "source": [
    "type(soup)"
   ]
  },
  {
   "cell_type": "code",
   "execution_count": 29,
   "id": "bec79937-3acc-455d-8b56-14c6abb6ba1f",
   "metadata": {},
   "outputs": [
    {
     "data": {
      "text/plain": [
       "bs4.element.ResultSet"
      ]
     },
     "execution_count": 29,
     "metadata": {},
     "output_type": "execute_result"
    }
   ],
   "source": [
    "type(text)"
   ]
  },
  {
   "cell_type": "code",
   "execution_count": 45,
   "id": "e0fdafba-af0e-430e-a30b-1d5a03e17207",
   "metadata": {
    "tags": []
   },
   "outputs": [],
   "source": [
    "#text.find('div', class_=\"verse\")"
   ]
  },
  {
   "cell_type": "code",
   "execution_count": 71,
   "id": "8ea8681f-487e-4176-9306-0ba6108432f0",
   "metadata": {
    "tags": []
   },
   "outputs": [],
   "source": [
    "#text"
   ]
  },
  {
   "cell_type": "code",
   "execution_count": 104,
   "id": "88c6e36b-ce5e-4ef8-81b6-8ef6afd7dd65",
   "metadata": {
    "tags": []
   },
   "outputs": [
    {
     "name": "stdout",
     "output_type": "stream",
     "text": [
      "'v1Harrin vitjaði Sáru, eins og hann hevði lovað; og Harrin gjørdi við Sáru, eins og hann hevði sagt.'\n",
      "'v2Og Sára varð við barn og føddi Ábrahami son á ellisárum hansara um tað mundið, sum Guð hevði sagt honum.'\n",
      "'v3Ábraham gav syni sínum, sum føddist honum – sum Sára føddi honum – navnið Ísakur.'\n",
      "'v4Og Ábraham umskar Ísak, son sín, tá ið hann var átta daga gamal, eins og Guð hevði boðið honum.'\n",
      "'v5Ábraham var hundrað ára gamal, tá ið Ísakur, sonur hansara, føddist honum.'\n",
      "'v6Tá mælti Sára: «Guð hevur elvt mær látur; og hvør tann, ið hoyrir um hetta, man flenna at mær.»'\n",
      "'v7Og hon segði: «Hvør skuldi sagt fyri Ábrahami, at Sára hevur barn á brósti? Og nú havi eg tó føtt honum son í ellisárum hansara.»'\n",
      "'v8Sveinurin vaks nú og varð vandur av brósti; og Ábraham gjørdi mikla veitslu tann dagin, tá ið Ísakur varð vandur av brósti.'\n",
      "'v9Men tá ið Sára sá sonin hjá Hágar, hini egyptisku, sum hon hevði føtt Ábrahami, spæla sær við Ísak, son sín,'\n",
      "'v10segði hon við Ábraham: «Rek burtur hesa trælkonu og son hennara, tí at ikki skal sonur hesar trælkonu taka upp arv saman við Ísaki, syni mínum!»'\n",
      "'v11Ábrahami líkaði hetta illa sonar síns vegna.'\n",
      "'v12Men Guð segði við Ábraham: «Harmast ikki um sveinin og trælkonu tína; men ver Sáru lýðin í øllum, sum hon sigur tær; tí at eina eftirkomarar Ísaks skulu verða taldir ættarkyn títt.'\n",
      "'v13Men eisini son trælkonunnar skal eg gera at miklari tjóð, tí at hann er jú avkom títt.»'\n",
      "'v14Morgunin eftir fór Ábraham snimma upp, tók breyð og vatnhít og gav Hágar tað; men sveinin setti hann upp á herðar hennara og sendi hana síðan burtur. Hon reikaði nú um og viltist í oyðimørk Beersjebu.'\n",
      "'v15Og tá ið vatnið í hítini var uppi, legði hon sveinin undir ein runn'\n",
      "'v16og fór og setti seg har okkurt sum bogaskots longd frá honum; tí at hon hugsaði við sær: «Eg toli ikki at síggja barnið doyggja.» Hon settist har, og sveinurin tók at stórgráta.'\n",
      "'v17Men Guð hoyrdi sveinin; og eingil Harrans rópaði av himni á Hágar og segði við hana: «Hvat bagir tær Hágar? Óttast ikki, tí at Guð hevur hoyrt rødd sveinsins, har sum hann liggur!'\n",
      "'v18Far og tak sveinin upp og hav hann í góðari varðveitslu, tí at eg skal gera hann til mikla tjóð!»'\n",
      "'v19Tá læt Guð eygu hennara upp, so at hon sá brunn við vatni í; hon fór og fylti hítina við vatni og gav sveininum at drekka.'\n",
      "'v20Og Guð var við sveininum; hann kom til og búsettist í oyðimørkini og gjørdist ørvagarpur.'\n",
      "'v21Hann búði í Párans oyðimørk; og móðir hansara tók honum konu úr Egyptalandi.'\n",
      "'v22Um hetta leitið komu Ábimelek og Píkol, herhøvdingi hansara, og søgdu við Ábraham: «Guð er við tær í øllum, sum tú fæst við.'\n",
      "'v23Svør nú her við Guð, at tú ikki vilt fara við svikráðum hvørki móti mær ella eftirkomarum mínum; men eins og eg havi sýnt tær góðsemi, soleiðis skalt tú gera móti mær og tí landi, har tú býrt í útisetri!»'\n",
      "'v24Ábraham svaraði: «Eg skal svørja svá!»'\n",
      "'v25Men Ábraham hevði at Ábimeleki fyri vatnbrunnin, sum húskallar Ábimeleks høvdu rænt.'\n",
      "'v26Tá segði Ábimelek: «Eg veit ikki, hvør ið hetta hevur gjørt; ikki hevur tú sagt hetta fyri mær, og ikki havi eg heldur hoyrt um tað fyrr enn í dag.»'\n",
      "'v27Tá tók Ábraham smalur og stórdýr og gav Ábimeleki, og teir gjørdu sáttmála sín ámillum.'\n",
      "'v28Men Ábraham tók sjey gimbrar úr fylginum burturav;'\n",
      "'v29og tá ið Ábimelek spurdi Ábraham, hví hann tók hesar sjey gimbrarnar burturav,'\n",
      "'v30svaraði hann: «Jú, hesar sjey gimbrarnar skalt tú taka við av míni hond til vitnisburðar um, at eg havi grivið henda brunnin.»'\n",
      "'v31Tessvegna eitur tann staðurin Beersjeba; tí har svóru teir báðir.'\n",
      "'v32Soleiðis gjørdu teir sáttmála í Beersjebu. Síðan fóru teir Ábimelek og Píkol, herhøvdingi hans, haðan og snúðust heim aftur í Filistaland.'\n",
      "'v33Ábraham setti niður támariskrunn í Beersjebu og ákallaði har navn Harrans, hins æviga Guðs.'\n",
      "'v34Og Ábraham búði leingi í útisetri í Filistalandi.'\n"
     ]
    }
   ],
   "source": [
    "for verse in text:\n",
    "    strVerse = verse.text\n",
    "    cleanVerse = strVerse.replace('\\t','')\n",
    "    cleanVerse = cleanVerse.replace('\\n','')\n",
    "    print(repr(cleanVerse))"
   ]
  },
  {
   "cell_type": "code",
   "execution_count": 100,
   "id": "a803913a-e8db-425e-a0ff-bbdccff37993",
   "metadata": {
    "tags": []
   },
   "outputs": [
    {
     "data": {
      "text/plain": [
       "str"
      ]
     },
     "execution_count": 100,
     "metadata": {},
     "output_type": "execute_result"
    }
   ],
   "source": [
    "type(strVerse)"
   ]
  },
  {
   "cell_type": "code",
   "execution_count": 64,
   "id": "5c43f54d-7d13-4fc0-bacd-49f4ff9b482e",
   "metadata": {
    "tags": []
   },
   "outputs": [],
   "source": [
    "#print(text.get_text())"
   ]
  },
  {
   "cell_type": "code",
   "execution_count": 65,
   "id": "3be82115-265b-4b1c-b8ed-0da7ac657912",
   "metadata": {
    "tags": []
   },
   "outputs": [],
   "source": [
    "#print(soup.prettify())"
   ]
  },
  {
   "cell_type": "code",
   "execution_count": null,
   "id": "b33fd1b5-461f-46c6-b7ab-868425bd7250",
   "metadata": {},
   "outputs": [],
   "source": []
  }
 ],
 "metadata": {
  "kernelspec": {
   "display_name": "Python 3 (ipykernel)",
   "language": "python",
   "name": "python3"
  },
  "language_info": {
   "codemirror_mode": {
    "name": "ipython",
    "version": 3
   },
   "file_extension": ".py",
   "mimetype": "text/x-python",
   "name": "python",
   "nbconvert_exporter": "python",
   "pygments_lexer": "ipython3",
   "version": "3.10.11"
  }
 },
 "nbformat": 4,
 "nbformat_minor": 5
}
